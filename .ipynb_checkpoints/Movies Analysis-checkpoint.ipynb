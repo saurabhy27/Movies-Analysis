{
 "cells": [
  {
   "cell_type": "code",
   "execution_count": 29,
   "id": "4cadac45",
   "metadata": {},
   "outputs": [],
   "source": [
    "import os\n",
    "import pandas as pd\n",
    "import matplotlib.pyplot as plt"
   ]
  },
  {
   "cell_type": "code",
   "execution_count": 30,
   "id": "d411a144",
   "metadata": {},
   "outputs": [
    {
     "data": {
      "text/plain": [
       "['.ipynb_checkpoints', 'movie.csv', 'Movies Analysis.ipynb']"
      ]
     },
     "execution_count": 30,
     "metadata": {},
     "output_type": "execute_result"
    }
   ],
   "source": [
    "# listing all the files\n",
    "os.listdir()"
   ]
  },
  {
   "cell_type": "code",
   "execution_count": 31,
   "id": "b09c00cb",
   "metadata": {},
   "outputs": [],
   "source": [
    "df = pd.read_csv(\"movie.csv\")"
   ]
  },
  {
   "cell_type": "code",
   "execution_count": 59,
   "id": "de932dc4",
   "metadata": {},
   "outputs": [
    {
     "data": {
      "text/plain": [
       "4878"
      ]
     },
     "execution_count": 59,
     "metadata": {},
     "output_type": "execute_result"
    }
   ],
   "source": [
    "# total movies count\n",
    "len(df)"
   ]
  },
  {
   "cell_type": "code",
   "execution_count": 32,
   "id": "ded88cb6",
   "metadata": {},
   "outputs": [
    {
     "data": {
      "text/plain": [
       "Color or Black&White           0\n",
       "Director Name                  0\n",
       "Movie Title                    0\n",
       "Year of Release                0\n",
       "IMDB Rating                    0\n",
       "Genres                         0\n",
       "Duration                       0\n",
       "Actor 1- Name                  7\n",
       "Actor 2- Name                 10\n",
       "Actor 3- Name                 18\n",
       "Gross Collection               0\n",
       "Budget                         0\n",
       "Language                       9\n",
       "Director- Facebook Likes       4\n",
       "Movie- Facebook Likes          0\n",
       "Actor 1- Facebook Likes        7\n",
       "Actor 2- Facebook Likes       10\n",
       "Actor 3- Facebook Likes       18\n",
       "Cast- Total Facebook Likes     0\n",
       "No. of Users who Voted         0\n",
       "dtype: int64"
      ]
     },
     "execution_count": 32,
     "metadata": {},
     "output_type": "execute_result"
    }
   ],
   "source": [
    "# checking the missing data\n",
    "df.isnull().sum(axis=0)"
   ]
  },
  {
   "cell_type": "code",
   "execution_count": 33,
   "id": "6a07dfe9",
   "metadata": {},
   "outputs": [
    {
     "data": {
      "text/html": [
       "<div>\n",
       "<style scoped>\n",
       "    .dataframe tbody tr th:only-of-type {\n",
       "        vertical-align: middle;\n",
       "    }\n",
       "\n",
       "    .dataframe tbody tr th {\n",
       "        vertical-align: top;\n",
       "    }\n",
       "\n",
       "    .dataframe thead th {\n",
       "        text-align: right;\n",
       "    }\n",
       "</style>\n",
       "<table border=\"1\" class=\"dataframe\">\n",
       "  <thead>\n",
       "    <tr style=\"text-align: right;\">\n",
       "      <th></th>\n",
       "      <th>Year of Release</th>\n",
       "      <th>IMDB Rating</th>\n",
       "      <th>Duration</th>\n",
       "      <th>Gross Collection</th>\n",
       "      <th>Budget</th>\n",
       "      <th>Director- Facebook Likes</th>\n",
       "      <th>Movie- Facebook Likes</th>\n",
       "      <th>Actor 1- Facebook Likes</th>\n",
       "      <th>Actor 2- Facebook Likes</th>\n",
       "      <th>Actor 3- Facebook Likes</th>\n",
       "      <th>Cast- Total Facebook Likes</th>\n",
       "      <th>No. of Users who Voted</th>\n",
       "    </tr>\n",
       "  </thead>\n",
       "  <tbody>\n",
       "    <tr>\n",
       "      <th>count</th>\n",
       "      <td>4878.000000</td>\n",
       "      <td>4878.000000</td>\n",
       "      <td>4878.000000</td>\n",
       "      <td>4.878000e+03</td>\n",
       "      <td>4.878000e+03</td>\n",
       "      <td>4874.000000</td>\n",
       "      <td>4878.000000</td>\n",
       "      <td>4871.000000</td>\n",
       "      <td>4868.000000</td>\n",
       "      <td>4860.000000</td>\n",
       "      <td>4878.00000</td>\n",
       "      <td>4.878000e+03</td>\n",
       "    </tr>\n",
       "    <tr>\n",
       "      <th>mean</th>\n",
       "      <td>2002.428659</td>\n",
       "      <td>6.417056</td>\n",
       "      <td>107.794383</td>\n",
       "      <td>4.009204e+07</td>\n",
       "      <td>3.624708e+07</td>\n",
       "      <td>684.690808</td>\n",
       "      <td>7464.895244</td>\n",
       "      <td>6632.630055</td>\n",
       "      <td>1652.874076</td>\n",
       "      <td>639.782099</td>\n",
       "      <td>9766.02788</td>\n",
       "      <td>8.397911e+04</td>\n",
       "    </tr>\n",
       "    <tr>\n",
       "      <th>std</th>\n",
       "      <td>12.490478</td>\n",
       "      <td>1.116203</td>\n",
       "      <td>23.180443</td>\n",
       "      <td>6.402823e+07</td>\n",
       "      <td>1.991951e+08</td>\n",
       "      <td>2816.105579</td>\n",
       "      <td>19305.922505</td>\n",
       "      <td>15189.217873</td>\n",
       "      <td>4045.063925</td>\n",
       "      <td>1642.053498</td>\n",
       "      <td>18275.51948</td>\n",
       "      <td>1.387655e+05</td>\n",
       "    </tr>\n",
       "    <tr>\n",
       "      <th>min</th>\n",
       "      <td>1916.000000</td>\n",
       "      <td>1.600000</td>\n",
       "      <td>0.000000</td>\n",
       "      <td>0.000000e+00</td>\n",
       "      <td>0.000000e+00</td>\n",
       "      <td>0.000000</td>\n",
       "      <td>0.000000</td>\n",
       "      <td>0.000000</td>\n",
       "      <td>0.000000</td>\n",
       "      <td>0.000000</td>\n",
       "      <td>0.00000</td>\n",
       "      <td>5.000000e+00</td>\n",
       "    </tr>\n",
       "    <tr>\n",
       "      <th>25%</th>\n",
       "      <td>1999.000000</td>\n",
       "      <td>5.800000</td>\n",
       "      <td>94.000000</td>\n",
       "      <td>4.638290e+05</td>\n",
       "      <td>3.500000e+06</td>\n",
       "      <td>7.000000</td>\n",
       "      <td>0.000000</td>\n",
       "      <td>617.000000</td>\n",
       "      <td>280.750000</td>\n",
       "      <td>132.750000</td>\n",
       "      <td>1411.00000</td>\n",
       "      <td>8.857000e+03</td>\n",
       "    </tr>\n",
       "    <tr>\n",
       "      <th>50%</th>\n",
       "      <td>2005.000000</td>\n",
       "      <td>6.500000</td>\n",
       "      <td>104.000000</td>\n",
       "      <td>1.609948e+07</td>\n",
       "      <td>1.600000e+07</td>\n",
       "      <td>49.000000</td>\n",
       "      <td>161.000000</td>\n",
       "      <td>990.000000</td>\n",
       "      <td>595.500000</td>\n",
       "      <td>370.500000</td>\n",
       "      <td>3108.50000</td>\n",
       "      <td>3.459450e+04</td>\n",
       "    </tr>\n",
       "    <tr>\n",
       "      <th>75%</th>\n",
       "      <td>2011.000000</td>\n",
       "      <td>7.200000</td>\n",
       "      <td>118.000000</td>\n",
       "      <td>5.177266e+07</td>\n",
       "      <td>4.000000e+07</td>\n",
       "      <td>192.000000</td>\n",
       "      <td>3000.000000</td>\n",
       "      <td>11000.000000</td>\n",
       "      <td>919.000000</td>\n",
       "      <td>636.000000</td>\n",
       "      <td>13940.75000</td>\n",
       "      <td>9.656800e+04</td>\n",
       "    </tr>\n",
       "    <tr>\n",
       "      <th>max</th>\n",
       "      <td>2016.000000</td>\n",
       "      <td>9.500000</td>\n",
       "      <td>330.000000</td>\n",
       "      <td>7.605058e+08</td>\n",
       "      <td>1.221550e+10</td>\n",
       "      <td>23000.000000</td>\n",
       "      <td>349000.000000</td>\n",
       "      <td>640000.000000</td>\n",
       "      <td>137000.000000</td>\n",
       "      <td>23000.000000</td>\n",
       "      <td>656730.00000</td>\n",
       "      <td>1.689764e+06</td>\n",
       "    </tr>\n",
       "  </tbody>\n",
       "</table>\n",
       "</div>"
      ],
      "text/plain": [
       "       Year of Release  IMDB Rating     Duration  Gross Collection  \\\n",
       "count      4878.000000  4878.000000  4878.000000      4.878000e+03   \n",
       "mean       2002.428659     6.417056   107.794383      4.009204e+07   \n",
       "std          12.490478     1.116203    23.180443      6.402823e+07   \n",
       "min        1916.000000     1.600000     0.000000      0.000000e+00   \n",
       "25%        1999.000000     5.800000    94.000000      4.638290e+05   \n",
       "50%        2005.000000     6.500000   104.000000      1.609948e+07   \n",
       "75%        2011.000000     7.200000   118.000000      5.177266e+07   \n",
       "max        2016.000000     9.500000   330.000000      7.605058e+08   \n",
       "\n",
       "             Budget  Director- Facebook Likes  Movie- Facebook Likes  \\\n",
       "count  4.878000e+03               4874.000000            4878.000000   \n",
       "mean   3.624708e+07                684.690808            7464.895244   \n",
       "std    1.991951e+08               2816.105579           19305.922505   \n",
       "min    0.000000e+00                  0.000000               0.000000   \n",
       "25%    3.500000e+06                  7.000000               0.000000   \n",
       "50%    1.600000e+07                 49.000000             161.000000   \n",
       "75%    4.000000e+07                192.000000            3000.000000   \n",
       "max    1.221550e+10              23000.000000          349000.000000   \n",
       "\n",
       "       Actor 1- Facebook Likes  Actor 2- Facebook Likes  \\\n",
       "count              4871.000000              4868.000000   \n",
       "mean               6632.630055              1652.874076   \n",
       "std               15189.217873              4045.063925   \n",
       "min                   0.000000                 0.000000   \n",
       "25%                 617.000000               280.750000   \n",
       "50%                 990.000000               595.500000   \n",
       "75%               11000.000000               919.000000   \n",
       "max              640000.000000            137000.000000   \n",
       "\n",
       "       Actor 3- Facebook Likes  Cast- Total Facebook Likes  \\\n",
       "count              4860.000000                  4878.00000   \n",
       "mean                639.782099                  9766.02788   \n",
       "std                1642.053498                 18275.51948   \n",
       "min                   0.000000                     0.00000   \n",
       "25%                 132.750000                  1411.00000   \n",
       "50%                 370.500000                  3108.50000   \n",
       "75%                 636.000000                 13940.75000   \n",
       "max               23000.000000                656730.00000   \n",
       "\n",
       "       No. of Users who Voted  \n",
       "count            4.878000e+03  \n",
       "mean             8.397911e+04  \n",
       "std              1.387655e+05  \n",
       "min              5.000000e+00  \n",
       "25%              8.857000e+03  \n",
       "50%              3.459450e+04  \n",
       "75%              9.656800e+04  \n",
       "max              1.689764e+06  "
      ]
     },
     "execution_count": 33,
     "metadata": {},
     "output_type": "execute_result"
    }
   ],
   "source": [
    "# checking the min and max values\n",
    "df.describe()"
   ]
  },
  {
   "cell_type": "code",
   "execution_count": 34,
   "id": "7f94bf24",
   "metadata": {},
   "outputs": [
    {
     "data": {
      "text/plain": [
       "Index(['Color or Black&White', 'Director Name', 'Movie Title',\n",
       "       'Year of Release', 'IMDB Rating', 'Genres', 'Duration', 'Actor 1- Name',\n",
       "       'Actor 2- Name', 'Actor 3- Name', 'Gross Collection', 'Budget',\n",
       "       'Language', 'Director- Facebook Likes', 'Movie- Facebook Likes',\n",
       "       'Actor 1- Facebook Likes', 'Actor 2- Facebook Likes',\n",
       "       'Actor 3- Facebook Likes', 'Cast- Total Facebook Likes',\n",
       "       'No. of Users who Voted'],\n",
       "      dtype='object')"
      ]
     },
     "execution_count": 34,
     "metadata": {},
     "output_type": "execute_result"
    }
   ],
   "source": [
    "# listing all the columns name\n",
    "df.columns"
   ]
  },
  {
   "cell_type": "code",
   "execution_count": 40,
   "id": "a5875807",
   "metadata": {},
   "outputs": [
    {
     "data": {
      "text/html": [
       "<div>\n",
       "<style scoped>\n",
       "    .dataframe tbody tr th:only-of-type {\n",
       "        vertical-align: middle;\n",
       "    }\n",
       "\n",
       "    .dataframe tbody tr th {\n",
       "        vertical-align: top;\n",
       "    }\n",
       "\n",
       "    .dataframe thead th {\n",
       "        text-align: right;\n",
       "    }\n",
       "</style>\n",
       "<table border=\"1\" class=\"dataframe\">\n",
       "  <thead>\n",
       "    <tr style=\"text-align: right;\">\n",
       "      <th></th>\n",
       "      <th>Movie Title</th>\n",
       "      <th>IMDB Rating</th>\n",
       "    </tr>\n",
       "  </thead>\n",
       "  <tbody>\n",
       "    <tr>\n",
       "      <th>4806</th>\n",
       "      <td>Towering Inferno</td>\n",
       "      <td>9.5</td>\n",
       "    </tr>\n",
       "    <tr>\n",
       "      <th>1919</th>\n",
       "      <td>The Shawshank Redemption</td>\n",
       "      <td>9.3</td>\n",
       "    </tr>\n",
       "    <tr>\n",
       "      <th>3388</th>\n",
       "      <td>The Godfather</td>\n",
       "      <td>9.2</td>\n",
       "    </tr>\n",
       "    <tr>\n",
       "      <th>2414</th>\n",
       "      <td>Kickboxer: Vengeance</td>\n",
       "      <td>9.1</td>\n",
       "    </tr>\n",
       "    <tr>\n",
       "      <th>4867</th>\n",
       "      <td>Dekalog</td>\n",
       "      <td>9.1</td>\n",
       "    </tr>\n",
       "    <tr>\n",
       "      <th>4789</th>\n",
       "      <td>Fargo</td>\n",
       "      <td>9.0</td>\n",
       "    </tr>\n",
       "    <tr>\n",
       "      <th>2733</th>\n",
       "      <td>The Godfather: Part II</td>\n",
       "      <td>9.0</td>\n",
       "    </tr>\n",
       "    <tr>\n",
       "      <th>72</th>\n",
       "      <td>The Dark Knight</td>\n",
       "      <td>9.0</td>\n",
       "    </tr>\n",
       "    <tr>\n",
       "      <th>366</th>\n",
       "      <td>The Lord of the Rings: The Return of the King</td>\n",
       "      <td>8.9</td>\n",
       "    </tr>\n",
       "    <tr>\n",
       "      <th>3178</th>\n",
       "      <td>Pulp Fiction</td>\n",
       "      <td>8.9</td>\n",
       "    </tr>\n",
       "  </tbody>\n",
       "</table>\n",
       "</div>"
      ],
      "text/plain": [
       "                                         Movie Title  IMDB Rating\n",
       "4806                   Towering Inferno                       9.5\n",
       "1919                       The Shawshank Redemption           9.3\n",
       "3388                                  The Godfather           9.2\n",
       "2414                           Kickboxer: Vengeance           9.1\n",
       "4867                            Dekalog                       9.1\n",
       "4789                              Fargo                       9.0\n",
       "2733                         The Godfather: Part II           9.0\n",
       "72                                  The Dark Knight           9.0\n",
       "366   The Lord of the Rings: The Return of the King           8.9\n",
       "3178                                   Pulp Fiction           8.9"
      ]
     },
     "execution_count": 40,
     "metadata": {},
     "output_type": "execute_result"
    }
   ],
   "source": [
    "# cheking most rated movies\n",
    "df[['Movie Title', 'IMDB Rating']].sort_values('IMDB Rating', ascending=False).head(10)"
   ]
  },
  {
   "cell_type": "code",
   "execution_count": 91,
   "id": "5368efea",
   "metadata": {},
   "outputs": [
    {
     "name": "stdout",
     "output_type": "stream",
     "text": [
      "Color or Black&White\n",
      "Color                   4675\n",
      " Black and White         203\n",
      "dtype: int64\n"
     ]
    },
    {
     "data": {
      "text/plain": [
       "[]"
      ]
     },
     "execution_count": 91,
     "metadata": {},
     "output_type": "execute_result"
    },
    {
     "data": {
      "image/png": "[encoded data removed]",
      "text/plain": [
       "<Figure size 720x504 with 1 Axes>"
      ]
     },
     "metadata": {
      "needs_background": "light"
     },
     "output_type": "display_data"
    }
   ],
   "source": [
    "print(df[['Color or Black&White']].value_counts())\n",
    "plt.figure(figsize=(10, 7))\n",
    "plt.hist(df['Color or Black&White'], color='b', alpha=0.5)\n",
    "plt.xlabel(\"Color or Black&White\")\n",
    "plt.ylabel(\"Number of Movies\")\n",
    "plt.plot()"
   ]
  },
  {
   "cell_type": "code",
   "execution_count": 52,
   "id": "b32acab6",
   "metadata": {
    "scrolled": true
   },
   "outputs": [
    {
     "data": {
      "text/plain": [
       "Language  \n",
       "English       4552\n",
       "French          72\n",
       "Spanish         40\n",
       "Hindi           28\n",
       "Mandarin        24\n",
       "German          19\n",
       "Japanese        16\n",
       "Cantonese       11\n",
       "Russian         11\n",
       "Italian         10\n",
       "Korean           8\n",
       "Portuguese       8\n",
       "Danish           5\n",
       "Hebrew           5\n",
       "Arabic           5\n",
       "Dutch            4\n",
       "Persian          4\n",
       "Norwegian        4\n",
       "Swedish          4\n",
       "Chinese          3\n",
       "Thai             3\n",
       "Romanian         2\n",
       "Polish           2\n",
       "None             2\n",
       "Aboriginal       2\n",
       "Zulu             2\n",
       "Dari             2\n",
       "Indonesian       2\n",
       "Slovenian        1\n",
       "Vietnamese       1\n",
       "Urdu             1\n",
       "Aramaic          1\n",
       "Telugu           1\n",
       "Tamil            1\n",
       "Bosnian          1\n",
       "Swahili          1\n",
       "Czech            1\n",
       "Kazakh           1\n",
       "Maya             1\n",
       "Dzongkha         1\n",
       "Filipino         1\n",
       "Greek            1\n",
       "Hungarian        1\n",
       "Panjabi          1\n",
       "Icelandic        1\n",
       "Mongolian        1\n",
       "Kannada          1\n",
       "dtype: int64"
      ]
     },
     "execution_count": 52,
     "metadata": {},
     "output_type": "execute_result"
    }
   ],
   "source": [
    "df[['Language']].value_counts()"
   ]
  },
  {
   "cell_type": "code",
   "execution_count": 57,
   "id": "85696d8f",
   "metadata": {},
   "outputs": [
    {
     "data": {
      "text/html": [
       "<div>\n",
       "<style scoped>\n",
       "    .dataframe tbody tr th:only-of-type {\n",
       "        vertical-align: middle;\n",
       "    }\n",
       "\n",
       "    .dataframe tbody tr th {\n",
       "        vertical-align: top;\n",
       "    }\n",
       "\n",
       "    .dataframe thead th {\n",
       "        text-align: right;\n",
       "    }\n",
       "</style>\n",
       "<table border=\"1\" class=\"dataframe\">\n",
       "  <thead>\n",
       "    <tr style=\"text-align: right;\">\n",
       "      <th></th>\n",
       "      <th>Movie Title</th>\n",
       "      <th>Gross Collection</th>\n",
       "    </tr>\n",
       "  </thead>\n",
       "  <tbody>\n",
       "    <tr>\n",
       "      <th>27</th>\n",
       "      <td>Avatar</td>\n",
       "      <td>760505847</td>\n",
       "    </tr>\n",
       "    <tr>\n",
       "      <th>61</th>\n",
       "      <td>Titanic</td>\n",
       "      <td>658672302</td>\n",
       "    </tr>\n",
       "    <tr>\n",
       "      <th>121</th>\n",
       "      <td>Jurassic World</td>\n",
       "      <td>652177271</td>\n",
       "    </tr>\n",
       "    <tr>\n",
       "      <th>34</th>\n",
       "      <td>The Avengers</td>\n",
       "      <td>623279547</td>\n",
       "    </tr>\n",
       "    <tr>\n",
       "      <th>72</th>\n",
       "      <td>The Dark Knight</td>\n",
       "      <td>533316061</td>\n",
       "    </tr>\n",
       "    <tr>\n",
       "      <th>263</th>\n",
       "      <td>Star Wars: Episode I - The Phantom Menace</td>\n",
       "      <td>474544677</td>\n",
       "    </tr>\n",
       "    <tr>\n",
       "      <th>2892</th>\n",
       "      <td>Star Wars: Episode IV - A New Hope</td>\n",
       "      <td>460935665</td>\n",
       "    </tr>\n",
       "    <tr>\n",
       "      <th>21</th>\n",
       "      <td>Avengers: Age of Ultron</td>\n",
       "      <td>458991599</td>\n",
       "    </tr>\n",
       "    <tr>\n",
       "      <th>23</th>\n",
       "      <td>The Dark Knight Rises</td>\n",
       "      <td>448130642</td>\n",
       "    </tr>\n",
       "    <tr>\n",
       "      <th>156</th>\n",
       "      <td>Shrek 2</td>\n",
       "      <td>436471036</td>\n",
       "    </tr>\n",
       "  </tbody>\n",
       "</table>\n",
       "</div>"
      ],
      "text/plain": [
       "                                     Movie Title  Gross Collection\n",
       "27                                       Avatar          760505847\n",
       "61                                      Titanic          658672302\n",
       "121                              Jurassic World          652177271\n",
       "34                                 The Avengers          623279547\n",
       "72                              The Dark Knight          533316061\n",
       "263   Star Wars: Episode I - The Phantom Menace          474544677\n",
       "2892         Star Wars: Episode IV - A New Hope          460935665\n",
       "21                      Avengers: Age of Ultron          458991599\n",
       "23                        The Dark Knight Rises          448130642\n",
       "156                                     Shrek 2          436471036"
      ]
     },
     "execution_count": 57,
     "metadata": {},
     "output_type": "execute_result"
    }
   ],
   "source": [
    "# highest grossing movies of all time\n",
    "df[['Movie Title', 'Gross Collection']].sort_values('Gross Collection', ascending=False).head(10)"
   ]
  },
  {
   "cell_type": "markdown",
   "id": "f9b51355",
   "metadata": {},
   "source": [
    "## Movies Released Year by Year"
   ]
  },
  {
   "cell_type": "code",
   "execution_count": 81,
   "id": "d2b5e191",
   "metadata": {},
   "outputs": [
    {
     "data": {
      "image/png": "[encoded data removed]",
      "text/plain": [
       "<Figure size 720x504 with 1 Axes>"
      ]
     },
     "metadata": {
      "needs_background": "light"
     },
     "output_type": "display_data"
    }
   ],
   "source": [
    "plt.figure(figsize=(10, 7))\n",
    "plt.hist(df['Year of Release'], bins=100, color='b', alpha=0.5)\n",
    "plt.xlabel(\"Year of Release\", fontsize=14)\n",
    "plt.xlim(1916, 2016)\n",
    "plt.ylabel(\"Count of Release\", fontsize=14)\n",
    "plt.show()"
   ]
  },
  {
   "cell_type": "markdown",
   "id": "21eed2ea",
   "metadata": {},
   "source": [
    "## Distribution of IMDB ratings"
   ]
  },
  {
   "cell_type": "code",
   "execution_count": 92,
   "id": "4a2695ed",
   "metadata": {},
   "outputs": [
    {
     "data": {
      "text/plain": [
       "[]"
      ]
     },
     "execution_count": 92,
     "metadata": {},
     "output_type": "execute_result"
    },
    {
     "data": {
      "image/png": "[encoded data removed]",
      "text/plain": [
       "<Figure size 720x504 with 1 Axes>"
      ]
     },
     "metadata": {
      "needs_background": "light"
     },
     "output_type": "display_data"
    }
   ],
   "source": [
    "plt.figure(figsize=(10, 7))\n",
    "plt.hist(df['IMDB Rating'], bins=200, color='b', alpha=0.5)\n",
    "plt.xlabel('IMDB Rating', fontsize=14)\n",
    "plt.ylabel('Number of Movies',fontsize=14)\n",
    "plt.plot()"
   ]
  },
  {
   "cell_type": "markdown",
   "id": "121f5e6c",
   "metadata": {},
   "source": [
    "## Distribution of IMDB ratings year wise"
   ]
  },
  {
   "cell_type": "code",
   "execution_count": 98,
   "id": "126c4244",
   "metadata": {},
   "outputs": [
    {
     "data": {
      "text/plain": [
       "[]"
      ]
     },
     "execution_count": 98,
     "metadata": {},
     "output_type": "execute_result"
    },
    {
     "data": {
      "image/png": "[encoded data removed]",
      "text/plain": [
       "<Figure size 720x504 with 1 Axes>"
      ]
     },
     "metadata": {
      "needs_background": "light"
     },
     "output_type": "display_data"
    }
   ],
   "source": [
    "plt.figure(figsize=(10, 7))\n",
    "plt.plot(df['Year of Release'], df['IMDB Rating'], '.', color='b', alpha=0.5)\n",
    "plt.xlabel('Year of Release', fontsize=14)\n",
    "plt.ylabel('IMDB Rating',fontsize=14)\n",
    "plt.plot()"
   ]
  },
  {
   "cell_type": "markdown",
   "id": "e46ea31b",
   "metadata": {},
   "source": [
    "## Distribution of IMDB ratings vs Budget"
   ]
  },
  {
   "cell_type": "code",
   "execution_count": 111,
   "id": "3949cc12",
   "metadata": {},
   "outputs": [
    {
     "data": {
      "text/plain": [
       "[]"
      ]
     },
     "execution_count": 111,
     "metadata": {},
     "output_type": "execute_result"
    },
    {
     "data": {
      "image/png": "[encoded data removed]",
      "text/plain": [
       "<Figure size 720x504 with 1 Axes>"
      ]
     },
     "metadata": {
      "needs_background": "light"
     },
     "output_type": "display_data"
    }
   ],
   "source": [
    "plt.figure(figsize=(10, 7))\n",
    "plt.plot(df['IMDB Rating'], df['Budget'], '.', color='b', alpha=0.5)\n",
    "plt.ylim(0.1e8,2.5e8)\n",
    "plt.xlabel('IMDB Rating', fontsize=14)\n",
    "plt.ylabel('Budget',fontsize=14)\n",
    "plt.plot()"
   ]
  },
  {
   "cell_type": "markdown",
   "id": "16a841bd",
   "metadata": {},
   "source": [
    "## Distribution of IMDB ratings vs Collections"
   ]
  },
  {
   "cell_type": "code",
   "execution_count": 113,
   "id": "f050d051",
   "metadata": {},
   "outputs": [
    {
     "data": {
      "text/plain": [
       "[]"
      ]
     },
     "execution_count": 113,
     "metadata": {},
     "output_type": "execute_result"
    },
    {
     "data": {
      "image/png": "[encoded data removed]",
      "text/plain": [
       "<Figure size 720x504 with 1 Axes>"
      ]
     },
     "metadata": {
      "needs_background": "light"
     },
     "output_type": "display_data"
    }
   ],
   "source": [
    "plt.figure(figsize=(10, 7))\n",
    "plt.plot(df['IMDB Rating'], df['Gross Collection'], '.', color='b', alpha=0.5)\n",
    "plt.xlabel('IMDB Rating', fontsize=14)\n",
    "plt.ylabel('Gross Collection',fontsize=14)\n",
    "plt.plot()"
   ]
  },
  {
   "cell_type": "markdown",
   "id": "24021bb9",
   "metadata": {},
   "source": [
    "## Budget Distribution"
   ]
  },
  {
   "cell_type": "code",
   "execution_count": null,
   "id": "10752292",
   "metadata": {},
   "outputs": [],
   "source": []
  }
 ],
 "metadata": {
  "kernelspec": {
   "display_name": "Python 3 (ipykernel)",
   "language": "python",
   "name": "python3"
  },
  "language_info": {
   "codemirror_mode": {
    "name": "ipython",
    "version": 3
   },
   "file_extension": ".py",
   "mimetype": "text/x-python",
   "name": "python",
   "nbconvert_exporter": "python",
   "pygments_lexer": "ipython3",
   "version": "3.10.0"
  }
 },
 "nbformat": 4,
 "nbformat_minor": 5
}
